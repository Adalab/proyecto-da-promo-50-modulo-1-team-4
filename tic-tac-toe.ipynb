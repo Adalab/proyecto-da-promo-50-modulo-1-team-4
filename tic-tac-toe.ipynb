{
 "cells": [
  {
   "cell_type": "markdown",
   "metadata": {},
   "source": [
    "# __Tic Tac Toe__"
   ]
  },
  {
   "cell_type": "markdown",
   "metadata": {},
   "source": [
    "### __Reglas del Juego \"Tic-Tac-Toe\":__\n",
    "\n",
    "- El juego se juega en un tablero de 3x3.\n",
    "- Dos jugadores, uno representa \"X\" y el otro \"O\", alternan turnos.\n",
    "- El objetivo es obtener tres símbolos del mismo tipo en línea horizontal, vertical o diagonal.\n",
    "- El juego termina cuando un jugador gana o el tablero se llena (empate).\n",
    "- El jugador que logre colocar tres de sus símbolos en línea es el ganador.\n",
    "\n",
    "\n",
    "### __Pistas para las alumnas:__\n",
    "\n",
    "1. Comienza creando una representación del tablero de juego utilizando una lista de listas para mantener un seguimiento de las jugadas.\n",
    "\n",
    "2. Implementa una función para imprimir el tablero en la pantalla en un formato claro y legible.\n",
    "\n",
    "3. Utiliza un bucle `while` para alternar los turnos de los jugadores y recopilar sus movimientos.\n",
    "\n",
    "4. Verifica después de cada movimiento si hay un ganador o si el juego termina en empate.\n",
    "\n",
    "5. Implementa una función que verifique si un jugador ha ganado alineando tres símbolos en fila, columna o diagonal.\n",
    "\n",
    "6. Asegurate de validar que una casilla seleccionada por un jugador no esté ocupada antes de permitir el movimiento.\n"
   ]
  },
  {
   "cell_type": "code",
   "execution_count": null,
   "metadata": {},
   "outputs": [],
   "source": [
    "board = [[1,2,3], [4,5,6], [7,8,9]]\n",
    "\n",
    "\n",
    "exes = input(\"Player 1. Choose the place for your X by choosing a number from 1 to 9\")\n",
    "\n",
    "print(\"\") #printear tablero en formato claro para que el jugador pueda escoger posición\n",
    "\n",
    "def print_board():\n",
    "    print([])\n",
    "\n",
    "\n",
    "def play_tictactoe():\n",
    "\n",
    "    play = False\n",
    "\n",
    "    \n",
    "\n",
    "\n",
    "\n",
    "\n",
    "\n",
    "\n",
    "\n",
    "# El jugador 1 elige en qué posición quiere poner la ficha\n"
   ]
  },
  {
   "cell_type": "code",
   "execution_count": null,
   "metadata": {},
   "outputs": [],
   "source": [
    "# Creamos el tablero. Necesitaremos 3 listas con 3 posiciones cada una. \n",
    "# Mostrar tablero bonito con los números indicando la posición que corresponde a cada casilla y las instrucciones -- print\n",
    "\n",
    "# game_over = False\n",
    "\n",
    "# while game_over == False:\n",
    "\n",
    "    # Pedir input de posición a Jugador X. -- La posición no puede ser una posición ya eligida. \n",
    "        # Controlar condición de finalización de juego (horizontal, vertical, diagonal, tablero lleno) ¿ganador o ambos pierden? -- if \n",
    "        # Volvemos a mostrar el tablero con ficha colocada -- se volverá a aplicar paso 2, habiendo aplicado los cambios sobre variable board. \n",
    "    # Pedir input de posición a Jugador O. -- La posición no puede ser una posición ya eligida. \n",
    "        # Controlar condición de finalización de juego (horizontal, vertical, diagonal, tablero lleno) ¿ganador o ambos pierden? -- if \n",
    "        # Volvemos a mostrar el tablero con ficha colocada -- se volverá a aplicar paso 2, habiendo aplicado los cambios sobre variable board. \n",
    "\n",
    "\n",
    "#if [CONDICION GANADORA]:\n",
    "#if []\n",
    "\n",
    "# ----\n",
    "# Dar posibilidad de abandonar el juego a mitad de la partida\n",
    "\n",
    "\n",
    "# "
   ]
  },
  {
   "cell_type": "code",
   "execution_count": null,
   "metadata": {},
   "outputs": [],
   "source": [
    "board = [[1,2,3],[4,5,6], [7,8,9]]\n",
    "print(board)"
   ]
  },
  {
   "cell_type": "markdown",
   "metadata": {},
   "source": [
    "- 1 = lista 2, posición 1\n",
    "- 2 = lista 2, posición 3\n",
    "- 3 = lista 2, posición 5\n",
    "- 4 = lista 4, posición 1\n",
    "- 5 = lista 4, posición 3\n",
    "- 6 = lista 4, posición 5\n",
    "- 7 = lista 6, posición 1\n",
    "- 8 = lista 6, posición 3\n",
    "- 9 = lista 6, posición 5"
   ]
  },
  {
   "cell_type": "code",
   "execution_count": null,
   "metadata": {},
   "outputs": [],
   "source": [
    "def board_view():\n",
    "        print(f\" ―――――――――――――\\n\",\n",
    "              \"|\", board[0][0],\"|\", board[0][1],\"|\", board[0][2],\"|\\n\", \n",
    "              \"―――――――――――――\\n\",\n",
    "              \"|\", board[1][0],\"|\", board[1][1],\"|\", board[1][2],\"|\\n\", \n",
    "              \"―――――――――――――\\n\",\n",
    "              \"|\", board[2][0],\"|\", board[2][1],\"|\", board[2][2],\"|\\n\", \n",
    "              \"―――――――――――――\")\n",
    "\n",
    "\n",
    "\n",
    "board_view()    "
   ]
  }
 ],
 "metadata": {
  "kernelspec": {
   "display_name": "base",
   "language": "python",
   "name": "python3"
  },
  "language_info": {
   "codemirror_mode": {
    "name": "ipython",
    "version": 3
   },
   "file_extension": ".py",
   "mimetype": "text/x-python",
   "name": "python",
   "nbconvert_exporter": "python",
   "pygments_lexer": "ipython3",
   "version": "3.12.8"
  }
 },
 "nbformat": 4,
 "nbformat_minor": 2
}
