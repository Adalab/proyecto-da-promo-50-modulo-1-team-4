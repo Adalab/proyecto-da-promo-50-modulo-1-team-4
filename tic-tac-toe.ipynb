{
 "cells": [
  {
   "cell_type": "markdown",
   "metadata": {},
   "source": [
    "# __Tic Tac Toe__"
   ]
  },
  {
   "cell_type": "markdown",
   "metadata": {},
   "source": [
    "### __Reglas del Juego \"Tic-Tac-Toe\":__\n",
    "\n",
    "- El juego se juega en un tablero de 3x3.\n",
    "- Dos jugadores, uno representa \"X\" y el otro \"O\", alternan turnos.\n",
    "- El objetivo es obtener tres símbolos del mismo tipo en línea horizontal, vertical o diagonal.\n",
    "- El juego termina cuando un jugador gana o el tablero se llena (empate).\n",
    "- El jugador que logre colocar tres de sus símbolos en línea es el ganador.\n",
    "\n",
    "\n",
    "### __Pistas para las alumnas:__\n",
    "\n",
    "1. Comienza creando una representación del tablero de juego utilizando una lista de listas para mantener un seguimiento de las jugadas.\n",
    "\n",
    "2. Implementa una función para imprimir el tablero en la pantalla en un formato claro y legible.\n",
    "\n",
    "3. Utiliza un bucle `while` para alternar los turnos de los jugadores y recopilar sus movimientos.\n",
    "\n",
    "4. Verifica después de cada movimiento si hay un ganador o si el juego termina en empate.\n",
    "\n",
    "5. Implementa una función que verifique si un jugador ha ganado alineando tres símbolos en fila, columna o diagonal.\n",
    "\n",
    "6. Asegurate de validar que una casilla seleccionada por un jugador no esté ocupada antes de permitir el movimiento.\n"
   ]
  },
  {
   "cell_type": "code",
   "execution_count": 12,
   "metadata": {},
   "outputs": [],
   "source": [
    "# Creamos el tablero. Necesitaremos 3 listas con 3 posiciones cada una. \n",
    "# Mostrar tablero bonito con los números indicando la posición que corresponde a cada casilla y las instrucciones -- print\n",
    "\n",
    "# game_over = False\n",
    "\n",
    "# while game_over == False:\n",
    "\n",
    "    # Pedir input de posición a Jugador X. -- La posición no puede ser una posición ya eligida. \n",
    "        # Controlar condición de finalización de juego (horizontal, vertical, diagonal, tablero lleno) ¿ganador o ambos pierden? -- if \n",
    "        # Volvemos a mostrar el tablero con ficha colocada -- se volverá a aplicar paso 2, habiendo aplicado los cambios sobre variable board. \n",
    "    # Pedir input de posición a Jugador O. -- La posición no puede ser una posición ya eligida. \n",
    "        # Controlar condición de finalización de juego (horizontal, vertical, diagonal, tablero lleno) ¿ganador o ambos pierden? -- if \n",
    "        # Volvemos a mostrar el tablero con ficha colocada -- se volverá a aplicar paso 2, habiendo aplicado los cambios sobre variable board. \n",
    "\n",
    "\n",
    "#if [CONDICION GANADORA]:\n",
    "#if []\n",
    "\n",
    "# ----\n",
    "# Dar posibilidad de abandonar el juego a mitad de la partida\n",
    "\n",
    "\n",
    "# "
   ]
  },
  {
   "cell_type": "code",
   "execution_count": 13,
   "metadata": {},
   "outputs": [
    {
     "name": "stdout",
     "output_type": "stream",
     "text": [
      "[[1, 2, 3], [4, 5, 6], [7, 8, 9]]\n"
     ]
    }
   ],
   "source": [
    "board = [[1,2,3],[4,5,6], [7,8,9]]\n",
    "print(board)"
   ]
  },
  {
   "cell_type": "markdown",
   "metadata": {},
   "source": [
    "- 1 = lista 0, posición 0\n",
    "- 2 = lista 0, posición 1\n",
    "- 3 = lista 0, posición 2\n",
    "- 4 = lista 1, posición 0\n",
    "- 5 = lista 1, posición 1\n",
    "- 6 = lista 1, posición 2\n",
    "- 7 = lista 2, posición 0\n",
    "- 8 = lista 2, posición 1\n",
    "- 9 = lista 2, posición 2"
   ]
  },
  {
   "cell_type": "code",
   "execution_count": 14,
   "metadata": {},
   "outputs": [
    {
     "name": "stdout",
     "output_type": "stream",
     "text": [
      " ―――――――――――――\n",
      " | 1 | 2 | 3 |\n",
      " ―――――――――――――\n",
      " | 4 | 5 | 6 |\n",
      " ―――――――――――――\n",
      " | 7 | 8 | 9 |\n",
      " ―――――――――――――\n"
     ]
    }
   ],
   "source": [
    "def board_view():\n",
    "        print(f\" ―――――――――――――\\n\",\n",
    "              \"|\", board[0][0],\"|\", board[0][1],\"|\", board[0][2],\"|\\n\", \n",
    "              \"―――――――――――――\\n\",\n",
    "              \"|\", board[1][0],\"|\", board[1][1],\"|\", board[1][2],\"|\\n\", \n",
    "              \"―――――――――――――\\n\",\n",
    "              \"|\", board[2][0],\"|\", board[2][1],\"|\", board[2][2],\"|\\n\", \n",
    "              \"―――――――――――――\")\n",
    "\n",
    "\n",
    "\n",
    "board_view()    "
   ]
  },
  {
   "cell_type": "code",
   "execution_count": 35,
   "metadata": {},
   "outputs": [],
   "source": [
    "def x_place_marker():\n",
    "\n",
    "    marker_x = int(input(\"Player 1. Please, place your 'X' by choosing an available spot from 1 to 9\"))\n",
    "\n",
    "    if (marker_x >= 1) and (marker_x <= 9):\n",
    "\n",
    "        updated = False\n",
    "\n",
    "        for i in board:\n",
    "\n",
    "            if marker_x in i:\n",
    "                updated = True\n",
    "                marker_x -= 1\n",
    "                i[marker_x] = \"❌\"\n",
    "                board_view()\n",
    "                break\n",
    "\n",
    "        if updated == False:\n",
    "            print(\"The selected spot is not available. Please, choose a diferent one\")\n",
    "\n",
    "    else: \n",
    "        print(\"Please choose a spot between 1 and 9\")\n",
    "\n",
    "\n",
    "def o_place_marker():\n",
    "\n",
    "    marker_o = int(input(\"Player 2. Please, place your 'O' by choosing an available spot from 1 to 9\"))\n",
    "\n",
    "    if (marker_o >= 1) and (marker_o <= 9):\n",
    "\n",
    "        updated = False\n",
    "\n",
    "        for i in board:\n",
    "\n",
    "            if marker_o in i:\n",
    "                updated = True\n",
    "                marker_o -= 1\n",
    "                i[marker_o] = \"⭕\"\n",
    "                board_view()\n",
    "                break\n",
    "\n",
    "        if updated == False:\n",
    "            print(\"The selected spot is not available. Please, choose a diferent one\")\n",
    "\n",
    "    else: \n",
    "        print(\"Please choose a spot between 1 and 9\")"
   ]
  },
  {
   "cell_type": "code",
   "execution_count": 37,
   "metadata": {},
   "outputs": [
    {
     "name": "stdout",
     "output_type": "stream",
     "text": [
      " ―――――――――――――\n",
      " | 1 | 2 | ⭕ |\n",
      " ―――――――――――――\n",
      " | 4 | 5 | 6 |\n",
      " ―――――――――――――\n",
      " | 7 | 8 | 9 |\n",
      " ―――――――――――――\n"
     ]
    }
   ],
   "source": [
    "board = [[1,2,3],[4,5,6], [7,8,9]]\n",
    "o_place_marker()"
   ]
  },
  {
   "cell_type": "code",
   "execution_count": 61,
   "metadata": {},
   "outputs": [],
   "source": [
    "def control():\n",
    "\n",
    "    #horizontal\n",
    "    if board[0][0] == board[0][1] == board[0][2]:\n",
    "        print(f'juego finalizado, ha ganado el jugador/la jugadora {board[0][0]}')\n",
    "        game_over = True\n",
    "\n",
    "    elif board[1][0] == board[1][1] == board[1][2]:\n",
    "        print(f'juego finalizado, ha ganado el jugador/la jugadora {board[1][0]}')\n",
    "        game_over = True\n",
    "\n",
    "    elif board[2][0] == board[2][1] == board[2][2]:\n",
    "        print(f'juego finalizado, ha ganado el jugador/la jugadora {board[2][0]}')\n",
    "        game_over = True\n",
    "\n",
    "    # vertical\n",
    "    elif board[0][0] == board[1][0] == board[2][0]:\n",
    "        print(f'juego finalizado, ha ganado el jugador/la jugadora {board[0][0]}')\n",
    "        game_over = True\n",
    "\n",
    "    elif board[0][1] == board[1][1] == board[2][1]:\n",
    "        print(f'juego finalizado, ha ganado el jugador/la jugadora {board[0][1]}')\n",
    "        game_over = True\n",
    "\n",
    "    elif board[0][2] == board[1][2] == board[2][2]:\n",
    "        print(f'juego finalizado, ha ganado el jugador/la jugadora {board[0][2]}')\n",
    "        game_over = True\n",
    "\n",
    "    # diagonal\n",
    "    elif board[0][0] == board[1][1] == board[2][2]:\n",
    "        print(f'juego finalizado, ha ganado el jugador/la jugadora {board[0][0]}')\n",
    "        game_over = True\n",
    "\n",
    "    elif board[0][2] == board[1][1] == board[2][0]:\n",
    "        print(f'juego finalizado, ha ganado el jugador/la jugadora {board[0][2]}')\n",
    "        game_over = True\n",
    "        \n",
    "    # tablero lleno sin ganador/a\n",
    "    else:\n",
    "        all_spots = board[0] + board[1] + board[2]\n",
    "        found = False\n",
    "\n",
    "        for spot in all_spots:\n",
    "            if type(spot) == int:\n",
    "                print('Keep playing')\n",
    "                found = True\n",
    "                break\n",
    "\n",
    "            elif found == False:\n",
    "                print('Draw')\n",
    "                break\n",
    "\n",
    "        #if not found:\n",
    "            #print('Draw')\n",
    "            \n",
    "    return\n"
   ]
  },
  {
   "cell_type": "code",
   "execution_count": 63,
   "metadata": {},
   "outputs": [],
   "source": [
    "board = [['a','a','a'],['a','a','a'], ['a','a','a']]"
   ]
  },
  {
   "cell_type": "code",
   "execution_count": 64,
   "metadata": {},
   "outputs": [
    {
     "name": "stdout",
     "output_type": "stream",
     "text": [
      " ―――――――――――――\n",
      " | a | a | a |\n",
      " ―――――――――――――\n",
      " | a | a | a |\n",
      " ―――――――――――――\n",
      " | a | a | a |\n",
      " ―――――――――――――\n",
      "juego finalizado, ha ganado el jugador/la jugadora a\n"
     ]
    }
   ],
   "source": [
    "board_view()\n",
    "control()"
   ]
  },
  {
   "cell_type": "code",
   "execution_count": null,
   "metadata": {},
   "outputs": [
    {
     "name": "stdout",
     "output_type": "stream",
     "text": [
      "Draw\n"
     ]
    },
    {
     "ename": "ValueError",
     "evalue": "invalid literal for int() with base 10: ''",
     "output_type": "error",
     "traceback": [
      "\u001b[1;31m---------------------------------------------------------------------------\u001b[0m",
      "\u001b[1;31mValueError\u001b[0m                                Traceback (most recent call last)",
      "Cell \u001b[1;32mIn[23], line 15\u001b[0m\n\u001b[0;32m     12\u001b[0m control(board)\n\u001b[0;32m     14\u001b[0m \u001b[38;5;28;01mif\u001b[39;00m game_over \u001b[38;5;241m==\u001b[39m \u001b[38;5;28;01mFalse\u001b[39;00m:\n\u001b[1;32m---> 15\u001b[0m     o_place_marker()\n\u001b[0;32m     16\u001b[0m     control(board)\n\u001b[0;32m     18\u001b[0m \u001b[38;5;28;01melse\u001b[39;00m:  \n",
      "Cell \u001b[1;32mIn[15], line 26\u001b[0m, in \u001b[0;36mo_place_marker\u001b[1;34m()\u001b[0m\n\u001b[0;32m     24\u001b[0m \u001b[38;5;28;01mdef\u001b[39;00m \u001b[38;5;21mo_place_marker\u001b[39m():\n\u001b[1;32m---> 26\u001b[0m     marker_o \u001b[38;5;241m=\u001b[39m \u001b[38;5;28mint\u001b[39m(\u001b[38;5;28minput\u001b[39m(\u001b[38;5;124m\"\u001b[39m\u001b[38;5;124mPlayer 2. Please, place your \u001b[39m\u001b[38;5;124m'\u001b[39m\u001b[38;5;124mO\u001b[39m\u001b[38;5;124m'\u001b[39m\u001b[38;5;124m by choosing an available spot from 1 to 9\u001b[39m\u001b[38;5;124m\"\u001b[39m))\n\u001b[0;32m     28\u001b[0m     \u001b[38;5;28;01mif\u001b[39;00m (marker_o \u001b[38;5;241m>\u001b[39m\u001b[38;5;241m=\u001b[39m \u001b[38;5;241m1\u001b[39m) \u001b[38;5;129;01mand\u001b[39;00m (marker_o \u001b[38;5;241m<\u001b[39m\u001b[38;5;241m=\u001b[39m \u001b[38;5;241m9\u001b[39m):\n\u001b[0;32m     30\u001b[0m         updated \u001b[38;5;241m=\u001b[39m \u001b[38;5;28;01mFalse\u001b[39;00m\n",
      "\u001b[1;31mValueError\u001b[0m: invalid literal for int() with base 10: ''"
     ]
    }
   ],
   "source": [
    "#def tic_tac_toe_game():\n",
    "\n",
    "#Incluir función view board + instrucciones\n",
    "\n",
    "board = [[1,2,3],[4,5,6], [7,8,9]]\n",
    "\n",
    "game_over = False\n",
    "\n",
    "while game_over == False:\n",
    "\n",
    "    x_place_marker()\n",
    "    control(board)\n",
    "\n",
    "    if game_over == False:\n",
    "        o_place_marker()\n",
    "        control(board)\n",
    "\n",
    "    else:  \n",
    "        print(\"Game Over\")"
   ]
  }
 ],
 "metadata": {
  "kernelspec": {
   "display_name": "base",
   "language": "python",
   "name": "python3"
  },
  "language_info": {
   "codemirror_mode": {
    "name": "ipython",
    "version": 3
   },
   "file_extension": ".py",
   "mimetype": "text/x-python",
   "name": "python",
   "nbconvert_exporter": "python",
   "pygments_lexer": "ipython3",
   "version": "3.12.7"
  }
 },
 "nbformat": 4,
 "nbformat_minor": 2
}
