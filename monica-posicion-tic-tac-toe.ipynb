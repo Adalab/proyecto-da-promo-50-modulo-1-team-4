{
 "cells": [
  {
   "cell_type": "markdown",
   "metadata": {},
   "source": [
    "# __Tic Tac Toe__"
   ]
  },
  {
   "cell_type": "markdown",
   "metadata": {},
   "source": [
    "### __Reglas del Juego \"Tic-Tac-Toe\":__\n",
    "\n",
    "- El juego se juega en un tablero de 3x3.\n",
    "- Dos jugadores, uno representa \"X\" y el otro \"O\", alternan turnos.\n",
    "- El objetivo es obtener tres símbolos del mismo tipo en línea horizontal, vertical o diagonal.\n",
    "- El juego termina cuando un jugador gana o el tablero se llena (empate).\n",
    "- El jugador que logre colocar tres de sus símbolos en línea es el ganador.\n",
    "\n",
    "\n",
    "### __Pistas para las alumnas:__\n",
    "\n",
    "1. Comienza creando una representación del tablero de juego utilizando una lista de listas para mantener un seguimiento de las jugadas.\n",
    "\n",
    "2. Implementa una función para imprimir el tablero en la pantalla en un formato claro y legible.\n",
    "\n",
    "3. Utiliza un bucle `while` para alternar los turnos de los jugadores y recopilar sus movimientos.\n",
    "\n",
    "4. Verifica después de cada movimiento si hay un ganador o si el juego termina en empate.\n",
    "\n",
    "5. Implementa una función que verifique si un jugador ha ganado alineando tres símbolos en fila, columna o diagonal.\n",
    "\n",
    "6. Asegurate de validar que una casilla seleccionada por un jugador no esté ocupada antes de permitir el movimiento.\n"
   ]
  },
  {
   "cell_type": "code",
   "execution_count": 31,
   "metadata": {},
   "outputs": [],
   "source": [
    "board = [[1,2,3], [4,5,6], [7,8,9]]\n",
    "\n",
    "def x_place_marker():\n",
    "\n",
    "    marker_x = int(input(\"Player 1. Please, place your 'X' by choosing an available spot from 1 to 9\"))\n",
    "\n",
    "    if (marker_x >= 1) and (marker_x <= 9):\n",
    "\n",
    "        updated = False\n",
    "\n",
    "        for i in board:\n",
    "\n",
    "            if marker_x in i:\n",
    "                updated = True\n",
    "                marker_x -= 1\n",
    "                i[marker_x] = \"X\"\n",
    "                break\n",
    "\n",
    "        if updated == False:\n",
    "            print(\"The selected spot is not available. Please, choose a diferent one\")\n",
    "\n",
    "    else: \n",
    "        print(\"Please choose a spot between 1 and 9\")\n",
    "\n",
    "\n",
    "def o_place_marker():\n",
    "\n",
    "    marker_o = int(input(\"Player 2. Please, place your 'O' by choosing an available spot from 1 to 9\"))\n",
    "\n",
    "    if (marker_o >= 1) and (marker_o <= 9):\n",
    "\n",
    "        updated = False\n",
    "\n",
    "        for i in board:\n",
    "\n",
    "            if marker_o in i:\n",
    "                updated = True\n",
    "                marker_o -= 1\n",
    "                i[marker_o] = \"O\"\n",
    "                break\n",
    "\n",
    "        if updated == False:\n",
    "            print(\"The selected spot is not available. Please, choose a diferent one\")\n",
    "\n",
    "    else: \n",
    "        print(\"Please choose a spot between 1 and 9\")"
   ]
  },
  {
   "cell_type": "code",
   "execution_count": null,
   "metadata": {},
   "outputs": [],
   "source": [
    "\n",
    "#Comienza el juego \n",
    "\n",
    "game_on = True\n",
    "\n",
    "while game_on == True:\n",
    "\n",
    "    x_place_marker()\n",
    "    # ¿ganador o continua el juego? Si gana, break --> game_on = False\n",
    "\n",
    "    o_place_marker()\n",
    "    # ¿ganador o continua el juego? Si gana, break --> game_on = False\n",
    "\n",
    "\n"
   ]
  },
  {
   "cell_type": "code",
   "execution_count": 27,
   "metadata": {},
   "outputs": [
    {
     "name": "stdout",
     "output_type": "stream",
     "text": [
      "Please choose a spot between 1 and 9\n"
     ]
    },
    {
     "data": {
      "text/plain": [
       "[['X', 2, 3], [4, 5, 6], [7, 8, 9]]"
      ]
     },
     "execution_count": 27,
     "metadata": {},
     "output_type": "execute_result"
    }
   ],
   "source": [
    "x_place_marker()\n",
    "\n",
    "board"
   ]
  },
  {
   "cell_type": "code",
   "execution_count": 32,
   "metadata": {},
   "outputs": [
    {
     "data": {
      "text/plain": [
       "[[1, 2, 'O'], [4, 5, 6], [7, 8, 9]]"
      ]
     },
     "execution_count": 32,
     "metadata": {},
     "output_type": "execute_result"
    }
   ],
   "source": [
    "o_place_marker()\n",
    "\n",
    "board"
   ]
  },
  {
   "cell_type": "code",
   "execution_count": null,
   "metadata": {},
   "outputs": [],
   "source": [
    "# Creamos el tablero. Necesitaremos 3 listas con 3 posiciones cada una. \n",
    "# Mostrar tablero bonito con los números indicando la posición que corresponde a cada casilla y las instrucciones -- print\n",
    "\n",
    "# game_over = False\n",
    "\n",
    "# while game_over == False:\n",
    "\n",
    "    # Pedir input de posición a Jugador X. -- La posición no puede ser una posición ya eligida. \n",
    "        # Controlar condición de finalización de juego (horizontal, vertical, diagonal, tablero lleno) ¿ganador o ambos pierden? -- if \n",
    "        # Volvemos a mostrar el tablero con ficha colocada -- se volverá a aplicar paso 2, habiendo aplicado los cambios sobre variable board. \n",
    "    # Pedir input de posición a Jugador O. -- La posición no puede ser una posición ya eligida. \n",
    "        # Controlar condición de finalización de juego (horizontal, vertical, diagonal, tablero lleno) ¿ganador o ambos pierden? -- if \n",
    "        # Volvemos a mostrar el tablero con ficha colocada -- se volverá a aplicar paso 2, habiendo aplicado los cambios sobre variable board. \n",
    "\n",
    "\n",
    "#if [CONDICION GANADORA]:\n",
    "#if []\n",
    "\n",
    "# ----\n",
    "# Dar posibilidad de abandonar el juego a mitad de la partida\n",
    "\n",
    "\n",
    "# "
   ]
  },
  {
   "cell_type": "code",
   "execution_count": null,
   "metadata": {},
   "outputs": [],
   "source": []
  }
 ],
 "metadata": {
  "kernelspec": {
   "display_name": "base",
   "language": "python",
   "name": "python3"
  },
  "language_info": {
   "codemirror_mode": {
    "name": "ipython",
    "version": 3
   },
   "file_extension": ".py",
   "mimetype": "text/x-python",
   "name": "python",
   "nbconvert_exporter": "python",
   "pygments_lexer": "ipython3",
   "version": "3.12.8"
  }
 },
 "nbformat": 4,
 "nbformat_minor": 2
}
