{
 "cells": [
  {
   "cell_type": "markdown",
   "metadata": {},
   "source": [
    "# Condiciones para seguir o terminar el juego"
   ]
  },
  {
   "cell_type": "code",
   "execution_count": null,
   "metadata": {},
   "outputs": [],
   "source": [
    "# La estructura en la que tengo que mirar es \n",
    "\n",
    "# board = [[1,2,3], [4,5,6], [7,8,9]] --> si casillero vacio es un numero entre del 1 y el 9, si casillero lleno tiene x u o.\n",
    "\n",
    "# Condiciones\n",
    "    # horizontal:\n",
    "        # si 1=2=3 --> termina\n",
    "        # si 4=5=6 --> termina\n",
    "        # si 7=8=9 --> termina\n",
    "    # vertical\n",
    "        # si 1=4=7 --> termina\n",
    "        # si 2=5=8 --> termina\n",
    "        # si 3=6=9 --> termina\n",
    "    # diagonal\n",
    "        # si 1=5=9 --> termina\n",
    "        # si 3=5=7 --> termina\n",
    "    # todos los casilleron completos\n",
    "        # si en todas las posiciones está completo, pero no hay tres en línea --> se termina pero es un empate\n",
    "\n",
    "    # extra! cuando ya no sea posible ganar??"
   ]
  },
  {
   "cell_type": "code",
   "execution_count": 39,
   "metadata": {},
   "outputs": [
    {
     "name": "stdout",
     "output_type": "stream",
     "text": [
      "[[1, 2, 3], [4, 5, 6], [7, 8, 9]]\n"
     ]
    }
   ],
   "source": [
    "# tablero de ejemplo\n",
    "board = [[1,2,3], [4,5,6], [7,8,9]]\n",
    "print(board)"
   ]
  },
  {
   "cell_type": "code",
   "execution_count": 41,
   "metadata": {},
   "outputs": [
    {
     "name": "stdout",
     "output_type": "stream",
     "text": [
      "[['x', 2, 3], [4, 'x', 6], [7, 8, 'x']]\n"
     ]
    }
   ],
   "source": [
    "# tablero de ejemplo 2\n",
    "board = [['x',2,3], [4,'x',6], [7,8,'x']]\n",
    "print(board)"
   ]
  },
  {
   "cell_type": "code",
   "execution_count": null,
   "metadata": {},
   "outputs": [],
   "source": [
    "def control(board):\n",
    "    #horizontal\n",
    "    if board[0][0] == board[0][1] == board[0][2]:\n",
    "        print(f'juego finalizado, ha ganado el jugador/la jugadora {board[0][0]}')\n",
    "        game_over = True\n",
    "    elif board[1][0] == board[1][1] == board[1][2]:\n",
    "        print(f'juego finalizado, ha ganado el jugador/la jugadora {board[1][0]}')\n",
    "        game_over = True\n",
    "    elif board[2][0] == board[2][1] == board[2][2]:\n",
    "        print(f'juego finalizado, ha ganado el jugador/la jugadora {board[2][0]}')\n",
    "        game_over = True\n",
    "    # vertical\n",
    "    elif board[0][0] == board[1][0] == board[2][0]:\n",
    "        print(f'juego finalizado, ha ganado el jugador/la jugadora {board[0][0]}')\n",
    "        game_over = True\n",
    "    elif board[0][1] == board[1][1] == board[2][1]:\n",
    "        print(f'juego finalizado, ha ganado el jugador/la jugadora {board[0][1]}')\n",
    "        game_over = True\n",
    "    elif board[0][2] == board[1][2] == board[2][2]:\n",
    "        print(f'juego finalizado, ha ganado el jugador/la jugadora {board[0][2]}')\n",
    "        game_over = True\n",
    "    # diagonal\n",
    "    elif board[0][0] == board[1][1] == board[2][2]:\n",
    "        print(f'juego finalizado, ha ganado el jugador/la jugadora {board[0][0]}')\n",
    "        game_over = True\n",
    "    elif board[0][2] == board[1][1] == board[2][0]:\n",
    "        print(f'juego finalizado, ha ganado el jugador/la jugadora {board[0][2]}')\n",
    "        game_over = True\n",
    "    # tablero lleno sin ganador/a\n",
    "    else:\n",
    "        found = False\n",
    "        all_spots = board[0] + board[1] + board[2]\n",
    "        for spot in all_spots:\n",
    "            if spot!= int:\n",
    "                found = False\n",
    "            else:\n",
    "                found = True\n",
    "                print('Keep playing')\n",
    "                break\n",
    "        if not found:\n",
    "            print('Draw')\n",
    "    return\n"
   ]
  },
  {
   "cell_type": "code",
   "execution_count": 80,
   "metadata": {},
   "outputs": [
    {
     "name": "stdout",
     "output_type": "stream",
     "text": [
      "[['x', 'd', 'r'], ['a', 'x', 'o'], ['t', 'v', 't']]\n",
      "Draw\n"
     ]
    }
   ],
   "source": [
    "# tablero de ejemplo 3\n",
    "board = [['x','d','r'], ['a','x','o'], ['t','v','t']]\n",
    "print(board)\n",
    "control(board)"
   ]
  }
 ],
 "metadata": {
  "kernelspec": {
   "display_name": "base",
   "language": "python",
   "name": "python3"
  },
  "language_info": {
   "codemirror_mode": {
    "name": "ipython",
    "version": 3
   },
   "file_extension": ".py",
   "mimetype": "text/x-python",
   "name": "python",
   "nbconvert_exporter": "python",
   "pygments_lexer": "ipython3",
   "version": "3.12.7"
  }
 },
 "nbformat": 4,
 "nbformat_minor": 2
}
