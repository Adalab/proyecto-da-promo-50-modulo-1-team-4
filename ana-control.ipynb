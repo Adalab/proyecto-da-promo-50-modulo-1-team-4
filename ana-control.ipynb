{
 "cells": [
  {
   "cell_type": "markdown",
   "metadata": {},
   "source": [
    "# Condiciones para seguir o terminar el juego"
   ]
  },
  {
   "cell_type": "code",
   "execution_count": null,
   "metadata": {},
   "outputs": [],
   "source": [
    "# La estructura en la que tengo que mirar es \n",
    "\n",
    "# board = [[1,2,3], [4,5,6], [7,8,9]] --> si casillero vacio es un numero entre del 1 y el 9, si casillero lleno tiene x u o.\n",
    "\n",
    "# Condiciones\n",
    "    # horizontal:\n",
    "        # si 1=2=3 --> termina\n",
    "        # si 4=5=6 --> termina\n",
    "        # si 7=8=9 --> termina\n",
    "    # vertical\n",
    "        # si 1=4=7 --> termina\n",
    "        # si 2=5=8 --> termina\n",
    "        # si 3=6=9 --> termina\n",
    "    # diagonal\n",
    "        # si 1=5=9 --> termina\n",
    "        # si 3=5=7 --> termina\n",
    "    # todos los casilleron completos\n",
    "        # si en todas las posiciones está completo, pero no hay tres en línea --> se termina pero es un empate\n",
    "\n",
    "    # extra! cuando ya no sea posible ganar??"
   ]
  },
  {
   "cell_type": "code",
   "execution_count": 39,
   "metadata": {},
   "outputs": [
    {
     "name": "stdout",
     "output_type": "stream",
     "text": [
      "[[1, 2, 3], [4, 5, 6], [7, 8, 9]]\n"
     ]
    }
   ],
   "source": [
    "# tablero de ejemplo\n",
    "board = [[1,2,3], [4,5,6], [7,8,9]]\n",
    "print(board)"
   ]
  },
  {
   "cell_type": "code",
   "execution_count": 41,
   "metadata": {},
   "outputs": [
    {
     "name": "stdout",
     "output_type": "stream",
     "text": [
      "[['x', 2, 3], [4, 'x', 6], [7, 8, 'x']]\n"
     ]
    }
   ],
   "source": [
    "# tablero de ejemplo 2\n",
    "board = [['x',2,3], [4,'x',6], [7,8,'x']]\n",
    "print(board)"
   ]
  },
  {
   "cell_type": "code",
   "execution_count": null,
   "metadata": {},
   "outputs": [],
   "source": [
    "def control(board):\n",
    "    #horizontal\n",
    "    if board[0][0] == board[0][1] == board[0][2]:\n",
    "        print(f'juego finalizado, ha ganado el jugador/la jugadora {board[0][0]}')\n",
    "        game_over = True\n",
    "    elif board[1][0] == board[1][1] == board[1][2]:\n",
    "        print(f'juego finalizado, ha ganado el jugador/la jugadora {board[1][0]}')\n",
    "        game_over = True\n",
    "    elif board[2][0] == board[2][1] == board[2][2]:\n",
    "        print(f'juego finalizado, ha ganado el jugador/la jugadora {board[2][0]}')\n",
    "        game_over = True\n",
    "    # vertical\n",
    "    elif board[0][0] == board[1][0] == board[2][0]:\n",
    "        print(f'juego finalizado, ha ganado el jugador/la jugadora {board[0][0]}')\n",
    "        game_over = True\n",
    "    elif board[0][1] == board[1][1] == board[2][1]:\n",
    "        print(f'juego finalizado, ha ganado el jugador/la jugadora {board[0][1]}')\n",
    "        game_over = True\n",
    "    elif board[0][2] == board[1][2] == board[2][2]:\n",
    "        print(f'juego finalizado, ha ganado el jugador/la jugadora {board[0][2]}')\n",
    "        game_over = True\n",
    "    # diagonal\n",
    "    elif board[0][0] == board[1][1] == board[2][2]:\n",
    "        print(f'juego finalizado, ha ganado el jugador/la jugadora {board[0][0]}')\n",
    "        game_over = True\n",
    "    elif board[0][2] == board[1][1] == board[2][0]:\n",
    "        print(f'juego finalizado, ha ganado el jugador/la jugadora {board[0][2]}')\n",
    "        game_over = True\n",
    "    # tablero lleno sin ganador/a\n",
    "    else:\n",
    "        found = False\n",
    "        all_spots = board[0] + board[1] + board[2]\n",
    "        for spot in all_spots:\n",
    "            if spot!= int:\n",
    "                found = False\n",
    "            else:\n",
    "                found = True\n",
    "                print('Keep playing')\n",
    "                break\n",
    "        if not found:\n",
    "            print('Draw')\n",
    "    return\n"
   ]
  },
  {
   "cell_type": "code",
   "execution_count": 80,
   "metadata": {},
   "outputs": [
    {
     "name": "stdout",
     "output_type": "stream",
     "text": [
      "[['x', 'd', 'r'], ['a', 'x', 'o'], ['t', 'v', 't']]\n",
      "Draw\n"
     ]
    }
   ],
   "source": [
    "# tablero de ejemplo 3\n",
    "board = [['x','d','r'], ['a','x','o'], ['t','v','t']]\n",
    "print(board)\n",
    "control(board)"
   ]
  },
  {
   "cell_type": "markdown",
   "metadata": {},
   "source": [
    "## Segunda prueba"
   ]
  },
  {
   "cell_type": "code",
   "execution_count": 2,
   "metadata": {},
   "outputs": [
    {
     "name": "stdout",
     "output_type": "stream",
     "text": [
      "[[1, 2, 3], [4, 5, 6], [7, 8, 9]]\n"
     ]
    }
   ],
   "source": [
    "board = [[1,2,3],[4,5,6], [7,8,9]]\n",
    "print(board)"
   ]
  },
  {
   "cell_type": "code",
   "execution_count": 3,
   "metadata": {},
   "outputs": [
    {
     "name": "stdout",
     "output_type": "stream",
     "text": [
      " ―――――――――――――\n",
      " | 1 | 2 | 3 |\n",
      " ―――――――――――――\n",
      " | 4 | 5 | 6 |\n",
      " ―――――――――――――\n",
      " | 7 | 8 | 9 |\n",
      " ―――――――――――――\n"
     ]
    }
   ],
   "source": [
    "def board_view():\n",
    "        print(f\" ―――――――――――――\\n\",\n",
    "              \"|\", board[0][0],\"|\", board[0][1],\"|\", board[0][2],\"|\\n\", \n",
    "              \"―――――――――――――\\n\",\n",
    "              \"|\", board[1][0],\"|\", board[1][1],\"|\", board[1][2],\"|\\n\", \n",
    "              \"―――――――――――――\\n\",\n",
    "              \"|\", board[2][0],\"|\", board[2][1],\"|\", board[2][2],\"|\\n\", \n",
    "              \"―――――――――――――\")\n",
    "\n",
    "\n",
    "\n",
    "board_view()    "
   ]
  },
  {
   "cell_type": "code",
   "execution_count": 55,
   "metadata": {},
   "outputs": [
    {
     "name": "stdout",
     "output_type": "stream",
     "text": [
      " ―――――――――――――\n",
      " | ❌ | ❌ | ⭕ |\n",
      " ―――――――――――――\n",
      " | ⭕ | ⭕ | ❌ |\n",
      " ―――――――――――――\n",
      " | ❌ | ⭕ | 9 |\n",
      " ―――――――――――――\n"
     ]
    }
   ],
   "source": [
    "board = [['❌','❌','⭕'],['⭕','⭕','❌'], ['❌','⭕',9]]\n",
    "board_view()"
   ]
  },
  {
   "cell_type": "markdown",
   "metadata": {},
   "source": [
    "## La función que va!!"
   ]
  },
  {
   "cell_type": "code",
   "execution_count": null,
   "metadata": {},
   "outputs": [],
   "source": [
    "# Prueba con lo ya trabajado con las chicas\n",
    "def control():\n",
    "\n",
    "    #horizontal\n",
    "    if board[0][0] == board[0][1] == board[0][2]:\n",
    "        if board[0][0] == '❌':\n",
    "            player = 'Player 1'\n",
    "        else:\n",
    "            player = 'Player 2'\n",
    "        print(f'Game done, {player} has won!')\n",
    "        game_over = True\n",
    "\n",
    "    elif board[1][0] == board[1][1] == board[1][2]:\n",
    "        if board[1][0] == '❌':\n",
    "            player = 'Player 1'\n",
    "        else:\n",
    "            player = 'Player 2'\n",
    "        print(f'Game done, {player} has won!')\n",
    "        game_over = True\n",
    "\n",
    "    elif board[2][0] == board[2][1] == board[2][2]:\n",
    "        if board[2][0] == '❌':\n",
    "            player = 'Player 1'\n",
    "        else:\n",
    "            player = 'Player 2'\n",
    "        print(f'Game done, {player} has won!')\n",
    "        game_over = True\n",
    "\n",
    "    # vertical\n",
    "    elif board[0][0] == board[1][0] == board[2][0]:\n",
    "        if board[0][0] == '❌':\n",
    "            player = 'Player 1'\n",
    "        else:\n",
    "            player = 'Player 2'\n",
    "        print(f'Game done, {player} has won!')\n",
    "        game_over = True\n",
    "\n",
    "    elif board[0][1] == board[1][1] == board[2][1]:\n",
    "        if board[0][1] == '❌':\n",
    "            player = 'Player 1'\n",
    "        else:\n",
    "            player = 'Player 2'\n",
    "        print(f'Game done, {player} has won!')        \n",
    "        game_over = True\n",
    "\n",
    "    elif board[0][2] == board[1][2] == board[2][2]:\n",
    "        if board[0][2] == '❌':\n",
    "            player = 'Player 1'\n",
    "        else:\n",
    "            player = 'Player 2'\n",
    "        print(f'Game done, {player} has won!')\n",
    "        game_over = True\n",
    "\n",
    "    # diagonal\n",
    "    elif board[0][0] == board[1][1] == board[2][2]:\n",
    "        if board[0][0] == '❌':\n",
    "            player = 'Player 1'\n",
    "        else:\n",
    "            player = 'Player 2'\n",
    "        print(f'Game done, {player} has won!')\n",
    "        game_over = True\n",
    "\n",
    "    elif board[0][2] == board[1][1] == board[2][0]:\n",
    "        if board[0][0] == '❌':\n",
    "            player = 'Player 1'\n",
    "        else:\n",
    "            player = 'Player 2'\n",
    "        print(f'Game done, {player} has won!')\n",
    "        game_over = True\n",
    "        \n",
    "    # tablero lleno sin ganador \n",
    "    else:\n",
    "        all_spots = board[0] + board[1] + board[2]\n",
    "        all_strings = True\n",
    "\n",
    "        for spot in all_spots:\n",
    "            if spot in  range(1,10):\n",
    "                all_strings = False\n",
    "                game_over = False\n",
    "                break\n",
    "        \n",
    "        if all_strings:\n",
    "            game_over = True\n",
    "            print('All cells are filled and no player has won. It’s a draw!')\n",
    "        else:\n",
    "            print('Keep playing')\n",
    "    \n",
    "    return\n"
   ]
  },
  {
   "cell_type": "code",
   "execution_count": 95,
   "metadata": {},
   "outputs": [
    {
     "name": "stdout",
     "output_type": "stream",
     "text": [
      " ―――――――――――――\n",
      " | ❌ | ❌ | ❌ |\n",
      " ―――――――――――――\n",
      " | 4 | ⭕ | 6 |\n",
      " ―――――――――――――\n",
      " | 7 | ⭕ | 9 |\n",
      " ―――――――――――――\n",
      "Game done, Player 1 has wone!\n"
     ]
    },
    {
     "data": {
      "text/plain": [
       "True"
      ]
     },
     "execution_count": 95,
     "metadata": {},
     "output_type": "execute_result"
    }
   ],
   "source": [
    "board_view()\n",
    "control()"
   ]
  },
  {
   "cell_type": "code",
   "execution_count": 94,
   "metadata": {},
   "outputs": [
    {
     "name": "stdout",
     "output_type": "stream",
     "text": [
      " ―――――――――――――\n",
      " | ❌ | ❌ | ❌ |\n",
      " ―――――――――――――\n",
      " | 4 | ⭕ | 6 |\n",
      " ―――――――――――――\n",
      " | 7 | ⭕ | 9 |\n",
      " ―――――――――――――\n"
     ]
    }
   ],
   "source": [
    "board = [['❌','❌','❌'],[4,'⭕',6], [7,'⭕',9]]\n",
    "board_view()"
   ]
  },
  {
   "cell_type": "markdown",
   "metadata": {},
   "source": [
    "1. all(): True si TODOS los elemetos son TRUE sino, false\n",
    "2. isinstance(spot,str): Esta función verifica si SPOT es un argumento del tipo STR - devuelve True siempre que se cumpla la condición\n",
    "3. for spot in all_spots: itera sobre cada elemento en all_spots\n"
   ]
  },
  {
   "cell_type": "code",
   "execution_count": null,
   "metadata": {},
   "outputs": [
    {
     "name": "stdout",
     "output_type": "stream",
     "text": [
      "Keep playing\n",
      " ―――――――――――――\n",
      " | ❌ | ❌ | ❌ |\n",
      " ―――――――――――――\n",
      " | 4 | ⭕ | 6 |\n",
      " ―――――――――――――\n",
      " | 7 | ⭕ | 9 |\n",
      " ―――――――――――――\n"
     ]
    }
   ],
   "source": [
    "# Alternativa [CUIDADO: los int tienen que ser int y yo un str.]\n",
    "all_spots = board[0] + board[1] + board[2]\n",
    "if all(isinstance(spot, str) for spot in all_spots):\n",
    "    game_over = True\n",
    "    print('Draw')\n",
    "            \n",
    "else:\n",
    "    game_over = False\n",
    "    print('Keep playing')\n",
    "board_view()\n"
   ]
  }
 ],
 "metadata": {
  "kernelspec": {
   "display_name": "base",
   "language": "python",
   "name": "python3"
  },
  "language_info": {
   "codemirror_mode": {
    "name": "ipython",
    "version": 3
   },
   "file_extension": ".py",
   "mimetype": "text/x-python",
   "name": "python",
   "nbconvert_exporter": "python",
   "pygments_lexer": "ipython3",
   "version": "3.12.7"
  }
 },
 "nbformat": 4,
 "nbformat_minor": 2
}
