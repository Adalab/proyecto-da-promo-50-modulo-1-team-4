{
 "cells": [
  {
   "cell_type": "markdown",
   "metadata": {},
   "source": [
    "# Condiciones para seguir o terminar el juego"
   ]
  },
  {
   "cell_type": "code",
   "execution_count": null,
   "metadata": {},
   "outputs": [],
   "source": [
    "# La estructura en la que tengo que mirar es \n",
    "\n",
    "# board = [[1,2,3], [4,5,6], [7,8,9]] --> si casillero vacio es un numero entre le 1 y el 9, si casillero lleno tiene x u o.\n",
    "\n",
    "# Condiciones\n",
    "    # horizontal:\n",
    "        # si 1=2=3 --> termina\n",
    "        # si 4=5=6 --> termina\n",
    "        # si 7=8=9 --> termina\n",
    "    # vertical\n",
    "        # si 1=4=7 --> termina\n",
    "        # si 2=5=8 --> termina\n",
    "        # si 3=6=9 --> termina\n",
    "    # diagonal\n",
    "        # si 1=5=9 --> termina\n",
    "        # si 3=5=7 --> termina\n",
    "    # todos los casilleron completos\n",
    "        # si en todas las posiciones está completo, pero no hay tres en línea --> se termina\n",
    "\n",
    "    # extra! cuando ya no sea posible ganar??"
   ]
  },
  {
   "cell_type": "code",
   "execution_count": 5,
   "metadata": {},
   "outputs": [
    {
     "name": "stdout",
     "output_type": "stream",
     "text": [
      "[[1, 2, 3], [4, 5, 6], [7, 8, 9]]\n"
     ]
    }
   ],
   "source": [
    "# tablero de ejemplo\n",
    "board = [[1,2,3], [4,5,6], [7,8,9]]\n",
    "print(board)"
   ]
  },
  {
   "cell_type": "code",
   "execution_count": 11,
   "metadata": {},
   "outputs": [
    {
     "name": "stdout",
     "output_type": "stream",
     "text": [
      "[['x', 2, 3], [4, 'x', 6], [7, 8, 'o']]\n"
     ]
    }
   ],
   "source": [
    "# tablero de ejemplo 2\n",
    "board = [['x',2,3], [4,'x',6], [7,8,'o']]\n",
    "print(board)"
   ]
  },
  {
   "cell_type": "code",
   "execution_count": 18,
   "metadata": {},
   "outputs": [
    {
     "ename": "TypeError",
     "evalue": "'in <string>' requires string as left operand, not int",
     "output_type": "error",
     "traceback": [
      "\u001b[1;31m---------------------------------------------------------------------------\u001b[0m",
      "\u001b[1;31mTypeError\u001b[0m                                 Traceback (most recent call last)",
      "Cell \u001b[1;32mIn[18], line 37\u001b[0m\n\u001b[0;32m     35\u001b[0m \u001b[38;5;28;01mfor\u001b[39;00m j \u001b[38;5;129;01min\u001b[39;00m columns:\n\u001b[0;32m     36\u001b[0m     \u001b[38;5;28;01mfor\u001b[39;00m number \u001b[38;5;129;01min\u001b[39;00m positions:\n\u001b[1;32m---> 37\u001b[0m         \u001b[38;5;28;01mif\u001b[39;00m number \u001b[38;5;129;01min\u001b[39;00m board[i][j]:\n\u001b[0;32m     38\u001b[0m             game_over \u001b[38;5;241m=\u001b[39m \u001b[38;5;28;01mFalse\u001b[39;00m\n\u001b[0;32m     39\u001b[0m             \u001b[38;5;28mprint\u001b[39m(\u001b[38;5;124m'\u001b[39m\u001b[38;5;124mSigue el juego\u001b[39m\u001b[38;5;124m'\u001b[39m)\n",
      "\u001b[1;31mTypeError\u001b[0m: 'in <string>' requires string as left operand, not int"
     ]
    }
   ],
   "source": [
    "# horizontal\n",
    "if board[0][0] == board[0][1] == board[0][2]:\n",
    "    print(f'juego finalizado, ha ganado el jugador/la jugadora {board[0][0]}')\n",
    "    game_over = True\n",
    "elif board[1][0] == board[1][1] == board[1][2]:\n",
    "    print(f'juego finalizado, ha ganado el jugador/la jugadora {board[1][0]}')\n",
    "    game_over = True\n",
    "elif board[2][0] == board[2][1] == board[2][2]:\n",
    "    print(f'juego finalizado, ha ganado el jugador/la jugadora {board[2][0]}')\n",
    "    game_over = True\n",
    "# verical\n",
    "elif board[0][0] == board[1][0] == board[2][0]:\n",
    "    print(f'juego finalizado, ha ganado el jugador/la jugadora {board[0][0]}')\n",
    "    game_over = True\n",
    "elif board[0][1] == board[1][1] == board[2][1]:\n",
    "    print(f'juego finalizado, ha ganado el jugador/la jugadora {board[0][1]}')\n",
    "    game_over = True\n",
    "elif board[0][2] == board[1][2] == board[2][2]:\n",
    "    print(f'juego finalizado, ha ganado el jugador/la jugadora {board[0][0]}')\n",
    "    game_over = True\n",
    "# diagonal\n",
    "elif board[0][0] == board[1][1] == board[2][2]:\n",
    "    print(f'juego finalizado, ha ganado el jugador/la jugadora {board[0][0]}')\n",
    "    game_over = True\n",
    "elif board[0][2] == board[1][1] == board[2][0]:\n",
    "    print(f'juego finalizado, ha ganado el jugador/la jugadora {board[0][2]}')\n",
    "    game_over = True\n",
    "# tablero lleno sin ganador/a\n",
    "#elif # todos letras sin numero pero sin ganador/a\n",
    "else:\n",
    "    rows = [0,1,2]\n",
    "    columns = [0,1,2]\n",
    "    positions = [1,2,3,4,5,6,7,8,9]\n",
    "    for i in rows:\n",
    "        for j in columns:\n",
    "            for number in positions:\n",
    "                if number in board[i][j]:\n",
    "                    game_over = False\n",
    "                    print('Sigue el juego')"
   ]
  }
 ],
 "metadata": {
  "kernelspec": {
   "display_name": "base",
   "language": "python",
   "name": "python3"
  },
  "language_info": {
   "codemirror_mode": {
    "name": "ipython",
    "version": 3
   },
   "file_extension": ".py",
   "mimetype": "text/x-python",
   "name": "python",
   "nbconvert_exporter": "python",
   "pygments_lexer": "ipython3",
   "version": "3.12.7"
  }
 },
 "nbformat": 4,
 "nbformat_minor": 2
}
