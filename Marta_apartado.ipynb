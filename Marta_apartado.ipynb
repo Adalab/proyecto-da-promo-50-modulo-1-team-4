{
 "cells": [
  {
   "cell_type": "code",
   "execution_count": null,
   "metadata": {},
   "outputs": [
    {
     "name": "stdout",
     "output_type": "stream",
     "text": [
      " ―――――――――――――\n",
      " | 3 |   |   |\n",
      " ―――――――――――――\n",
      " | 3 |   |   |\n",
      " ―――――――――――――\n",
      " | 3 |   |   |\n",
      " ―――――――――――――\n",
      "[[1, 2, 3], [4, 5, 6], [7, 8, 9]]\n"
     ]
    }
   ],
   "source": [
    "board = [[1,2,3],[4,5,6], [7,8,9]]\n",
    "print(board)\n"
   ]
  },
  {
   "cell_type": "markdown",
   "metadata": {},
   "source": [
    "- 1 = lista 2, posición 1\n",
    "- 2 = lista 2, posición 3\n",
    "- 3 = lista 2, posición 5\n",
    "- 4 = lista 4, posición 1\n",
    "- 5 = lista 4, posición 3\n",
    "- 6 = lista 4, posición 5\n",
    "- 7 = lista 6, posición 1\n",
    "- 8 = lista 6, posición 3\n",
    "- 9 = lista 6, posición 5"
   ]
  },
  {
   "cell_type": "code",
   "execution_count": 15,
   "metadata": {},
   "outputs": [
    {
     "name": "stdout",
     "output_type": "stream",
     "text": [
      " ―――――――――――――\n",
      " | 1 | 2 | 3 |\n",
      " ―――――――――――――\n",
      " | 4 | 5 | 6 |\n",
      " ―――――――――――――\n",
      " | 7 | 8 | 9 |\n",
      " ―――――――――――――\n"
     ]
    }
   ],
   "source": [
    "def board_view():\n",
    "        print(f\" ―――――――――――――\\n\",\n",
    "              \"|\", board[0][0],\"|\", board[0][1],\"|\", board[0][2],\"|\\n\", \n",
    "              \"―――――――――――――\\n\",\n",
    "              \"|\", board[1][0],\"|\", board[1][1],\"|\", board[1][2],\"|\\n\", \n",
    "              \"―――――――――――――\\n\",\n",
    "              \"|\", board[2][0],\"|\", board[2][1],\"|\", board[2][2],\"|\\n\", \n",
    "              \"―――――――――――――\")\n",
    "\n",
    "\n",
    "\n",
    "board_view()      "
   ]
  }
 ],
 "metadata": {
  "kernelspec": {
   "display_name": "Python 3",
   "language": "python",
   "name": "python3"
  },
  "language_info": {
   "codemirror_mode": {
    "name": "ipython",
    "version": 3
   },
   "file_extension": ".py",
   "mimetype": "text/x-python",
   "name": "python",
   "nbconvert_exporter": "python",
   "pygments_lexer": "ipython3",
   "version": "3.13.1"
  }
 },
 "nbformat": 4,
 "nbformat_minor": 2
}
