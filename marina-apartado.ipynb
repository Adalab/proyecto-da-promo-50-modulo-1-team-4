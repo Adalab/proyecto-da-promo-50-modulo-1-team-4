{
 "cells": [
  {
   "cell_type": "code",
   "execution_count": 2,
   "metadata": {},
   "outputs": [],
   "source": [
    "board = [[1,2,3],[4,5,6], [7,8,9]]"
   ]
  },
  {
   "cell_type": "code",
   "execution_count": 7,
   "metadata": {},
   "outputs": [
    {
     "name": "stdout",
     "output_type": "stream",
     "text": [
      "Welcome to Tic Tac Toe, a game from Gaming S.L.! 🎮 Get ready to challenge your mind.\n",
      "\n",
      "Your mission:\n",
      "\n",
      "Outsmart your opponent by being the first to align three of your marks in a row, column, or diagonal.\n",
      "\n",
      "How to play:\n",
      "\n",
      "1. Players take turns placing their mark (❌ or ⭕) in an empty cell.\n",
      "2. Once a cell is marked, it cannot be used again.\n",
      "3. Keep going until a player wins or the board is full. If no one wins… it’s a draw!\n",
      "\n",
      "Let's start the game!\n",
      "\n",
      "Here’s your board. Make your move wisely:\n",
      "\n",
      " ―――――――――――――\n",
      " | 1 | 2 | 3 |\n",
      " ―――――――――――――\n",
      " | 4 | 5 | 6 |\n",
      " ―――――――――――――\n",
      " | 7 | 8 | 9 |\n",
      " ―――――――――――――\n"
     ]
    }
   ],
   "source": [
    "def bienvenida():\n",
    "    print(\"Welcome to Tic Tac Toe, a game from Gaming S.L.! 🎮 Get ready to challenge your mind.\\n\")\n",
    "    print(\"Your mission:\\n\")\n",
    "    print(\"Outsmart your opponent by being the first to align three of your marks in a row, column, or diagonal.\\n\")\n",
    "    print(\"How to play:\\n\")\n",
    "    print(\"1. Players take turns placing their mark (❌ or ⭕) in an empty cell.\")\n",
    "    print(\"2. Once a cell is marked, it cannot be used again.\")\n",
    "    print(\"3. Keep going until a player wins or the board is full. If no one wins… it’s a draw!\\n\")\n",
    "    print(\"Let's start the game!\\n\")\n",
    "\n",
    "def board_view():\n",
    "        print(\"Here’s your board. Make your move wisely:\\n\")\n",
    "        print(f\" ―――――――――――――\\n\",\n",
    "              \"|\", board[0][0],\"|\", board[0][1],\"|\", board[0][2],\"|\\n\", \n",
    "              \"―――――――――――――\\n\",\n",
    "              \"|\", board[1][0],\"|\", board[1][1],\"|\", board[1][2],\"|\\n\", \n",
    "              \"―――――――――――――\\n\",\n",
    "              \"|\", board[2][0],\"|\", board[2][1],\"|\", board[2][2],\"|\\n\", \n",
    "              \"―――――――――――――\")\n",
    "\n",
    "bienvenida()  # Mostramos el mensaje de bienvenida\n",
    "board_view()  # Mostramos el tablero vacío"
   ]
  },
  {
   "cell_type": "code",
   "execution_count": null,
   "metadata": {},
   "outputs": [],
   "source": [
    "def restart_game():\n",
    "    # Preguntar si quieren jugar de nuevo\n",
    "    respuesta = input(\"Do you want to play again? (yes/no):\")\n",
    "    if respuesta == \"yes\":\n",
    "        print(\"\\nStarting a new game...\\n\")\n",
    "        iniciar_juego()  # Llamamos a la función principal que inicia el juego (definir el nombre)\n",
    "    else:\n",
    "        print(\"\\nThanks for playing Tic Tac Toe! Goodbye! 👋\")\n",
    "        return  # Simplemente termina la función sin cerrar el programa\n",
    "    \n",
    "# si usamos esta función, podemos definir una que sea iniciar_juego() y llamarla en lugar de bienvenida() para que el juego se reinicie automáticamente\n"
   ]
  }
 ],
 "metadata": {
  "kernelspec": {
   "display_name": "base",
   "language": "python",
   "name": "python3"
  },
  "language_info": {
   "codemirror_mode": {
    "name": "ipython",
    "version": 3
   },
   "file_extension": ".py",
   "mimetype": "text/x-python",
   "name": "python",
   "nbconvert_exporter": "python",
   "pygments_lexer": "ipython3",
   "version": "3.12.7"
  }
 },
 "nbformat": 4,
 "nbformat_minor": 2
}
